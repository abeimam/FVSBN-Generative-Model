{
 "cells": [
  {
   "cell_type": "code",
   "execution_count": 1,
   "metadata": {},
   "outputs": [],
   "source": [
    "import torch\n",
    "import torch.nn as nn\n",
    "import torch.optim as optim\n",
    "from torchvision import datasets, transforms\n",
    "import matplotlib.pyplot as plt\n",
    "\n",
    "device = torch.device(\"cuda\" if torch.cuda.is_available() else \"cpu\")\n"
   ]
  },
  {
   "cell_type": "code",
   "execution_count": 9,
   "metadata": {},
   "outputs": [],
   "source": [
    "transform = transforms.Compose([\n",
    "    transforms.ToTensor(),\n",
    "    lambda x: (x > 0.5).float()  \n",
    "])\n",
    "\n",
    "train_dataset = datasets.MNIST(root='./data', train=True, transform=transform, download=True)\n",
    "train_loader = torch.utils.data.DataLoader(train_dataset, batch_size=64, shuffle=True)\n"
   ]
  },
  {
   "cell_type": "code",
   "execution_count": 14,
   "metadata": {},
   "outputs": [],
   "source": [
    "class FVSBN(nn.Module):\n",
    "    def __init__(self, input_dim):\n",
    "        super(FVSBN, self).__init__()\n",
    "        self.input_dim = input_dim\n",
    "        self.bias = nn.Parameter(torch.zeros(input_dim))\n",
    "        self.weights = nn.Parameter(torch.zeros(input_dim, input_dim))\n",
    "        self.sigmoid = nn.Sigmoid()\n",
    "\n",
    "    def forward(self, x):\n",
    "        probs = torch.zeros_like(x)\n",
    "        \n",
    "        for i in range(self.input_dim):\n",
    "            linear_combination = self.bias[i] + torch.matmul(x[:, :i], self.weights[i, :i])\n",
    "            probs[:, i] = self.sigmoid(linear_combination)\n",
    "        \n",
    "        return probs\n",
    "\n",
    "    def sample(self, batch_size):\n",
    "        samples = torch.zeros(batch_size, self.input_dim).to(device)\n",
    "        for i in range(self.input_dim):\n",
    "            linear_combination = self.bias[i] + torch.matmul(samples[:, :i], self.weights[i, :i])\n",
    "            probs = self.sigmoid(linear_combination)\n",
    "            samples[:, i] = torch.bernoulli(probs)\n",
    "        return samples\n"
   ]
  },
  {
   "cell_type": "code",
   "execution_count": 15,
   "metadata": {},
   "outputs": [
    {
     "name": "stdout",
     "output_type": "stream",
     "text": [
      "Epoch 1/10, Loss: 0.2922\n",
      "Epoch 2/10, Loss: 0.1913\n",
      "Epoch 3/10, Loss: 0.1538\n",
      "Epoch 4/10, Loss: 0.1336\n",
      "Epoch 5/10, Loss: 0.1216\n",
      "Epoch 6/10, Loss: 0.1140\n",
      "Epoch 7/10, Loss: 0.1090\n",
      "Epoch 8/10, Loss: 0.1056\n",
      "Epoch 9/10, Loss: 0.1033\n",
      "Epoch 10/10, Loss: 0.1016\n"
     ]
    }
   ],
   "source": [
    "def train_fvsbn(model, data_loader, optimizer, epochs):\n",
    "    model.train()\n",
    "    loss_fn = nn.BCELoss()\n",
    "    \n",
    "    for epoch in range(epochs):\n",
    "        total_loss = 0\n",
    "        for batch in data_loader:\n",
    "            x, _ = batch\n",
    "            x = x.view(x.size(0), -1).to(device)  \n",
    "            \n",
    "            probs = model(x)\n",
    "            loss = loss_fn(probs, x)\n",
    "            \n",
    "            optimizer.zero_grad()\n",
    "            loss.backward()\n",
    "            optimizer.step()\n",
    "            \n",
    "            total_loss += loss.item()\n",
    "        \n",
    "        print(f\"Epoch {epoch + 1}/{epochs}, Loss: {total_loss / len(data_loader):.4f}\")\n",
    "\n",
    "input_dim = 28 * 28\n",
    "fvsbn_model = FVSBN(input_dim).to(device)\n",
    "optimizer = optim.Adam(fvsbn_model.parameters(), lr=0.001)\n",
    "\n",
    "train_fvsbn(fvsbn_model, train_loader, optimizer, epochs=10)\n"
   ]
  },
  {
   "cell_type": "code",
   "execution_count": 30,
   "metadata": {},
   "outputs": [
    {
     "data": {
      "image/png": "[encoded data removed]",
      "text/plain": [
       "<Figure size 1000x200 with 5 Axes>"
      ]
     },
     "metadata": {},
     "output_type": "display_data"
    }
   ],
   "source": [
    "def generate_samples(model, num_samples):\n",
    "    model.eval()\n",
    "    with torch.no_grad():\n",
    "        samples = model.sample(num_samples)\n",
    "        samples = samples.view(num_samples, 28, 28).cpu().numpy()\n",
    "    \n",
    "    fig, axes = plt.subplots(1, num_samples, figsize=(num_samples * 2, 2))\n",
    "    for i, ax in enumerate(axes):\n",
    "        ax.imshow(samples[i], cmap='gray')\n",
    "        ax.axis('off')\n",
    "    plt.show()\n",
    "\n",
    "generate_samples(fvsbn_model, num_samples=5)\n"
   ]
  },
  {
   "cell_type": "code",
   "execution_count": 17,
   "metadata": {},
   "outputs": [],
   "source": [
    "def evaluate_log_likelihood(model, data_loader):\n",
    "    model.eval()\n",
    "    log_likelihood = 0\n",
    "    with torch.no_grad():\n",
    "        for batch in data_loader:\n",
    "            x, _ = batch\n",
    "            x = x.view(x.size(0), -1).to(device)\n",
    "            probs = model(x)\n",
    "            log_prob = x * torch.log(probs + 1e-8) + (1 - x) * torch.log(1 - probs + 1e-8)\n",
    "            log_likelihood += log_prob.sum().item()\n",
    "    \n",
    "    avg_log_likelihood = log_likelihood / len(data_loader.dataset)\n",
    "    print(f\"Average Log-Likelihood: {avg_log_likelihood:.4f}\")\n"
   ]
  },
  {
   "cell_type": "code",
   "execution_count": 18,
   "metadata": {},
   "outputs": [
    {
     "name": "stdout",
     "output_type": "stream",
     "text": [
      "Average Log-Likelihood: -78.8447\n"
     ]
    }
   ],
   "source": [
    "evaluate_log_likelihood(fvsbn_model,train_loader)"
   ]
  },
  {
   "cell_type": "code",
   "execution_count": null,
   "metadata": {},
   "outputs": [],
   "source": []
  }
 ],
 "metadata": {
  "kernelspec": {
   "display_name": ".venv",
   "language": "python",
   "name": "python3"
  },
  "language_info": {
   "codemirror_mode": {
    "name": "ipython",
    "version": 3
   },
   "file_extension": ".py",
   "mimetype": "text/x-python",
   "name": "python",
   "nbconvert_exporter": "python",
   "pygments_lexer": "ipython3",
   "version": "3.12.7"
  }
 },
 "nbformat": 4,
 "nbformat_minor": 2
}
